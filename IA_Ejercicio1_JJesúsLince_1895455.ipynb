{
  "nbformat": 4,
  "nbformat_minor": 0,
  "metadata": {
    "colab": {
      "name": "IA_Ejercicio1_JJesúsLince_1895455.ipynb",
      "provenance": [],
      "mount_file_id": "10-2Bnno-ouvPHQMCja-VUFL4vDEYN4Rl",
      "authorship_tag": "ABX9TyNY9wm9Ga4SS9QJJJksBEQC",
      "include_colab_link": true
    },
    "kernelspec": {
      "name": "python3",
      "display_name": "Python 3"
    },
    "language_info": {
      "name": "python"
    }
  },
  "cells": [
    {
      "cell_type": "markdown",
      "metadata": {
        "id": "view-in-github",
        "colab_type": "text"
      },
      "source": [
        "<a href=\"https://colab.research.google.com/github/LinceIbarra/InteligenciaArtificial_y_RedesNeuronales_UANL_FIME/blob/main/IA_Ejercicio1_JJes%C3%BAsLince_1895455.ipynb\" target=\"_parent\"><img src=\"https://colab.research.google.com/assets/colab-badge.svg\" alt=\"Open In Colab\"/></a>"
      ]
    },
    {
      "cell_type": "code",
      "source": [
        "#A2: Ejercicios Básicos en Python, Jesús Gilberto Lince Ibarra, 1895455, N1\n",
        "\n",
        "saludo = input(\"¿Como te llamas?\") #variable del nombre\n",
        "if saludo == \"Ana\": #primer if elimina el nombre no deseado\n",
        "  print(\"adios\")\n",
        "elif saludo == \"Juan\":\n",
        "  print(\"adios\")\n",
        "else: #Saluda a cualquier otro nombre\n",
        "  print(\"hola\", saludo) #saludo\n",
        "\n",
        "def lista (lis): #Funcion\n",
        "  print (lis[-1]) #Ultimo elemento\n",
        "  print (lis[::-1]) #Utilizamos la regla de rangos para invertir poniendolo en orden de inicio y fin del -2 al -2]\n",
        "asistencia = [\"Ana\",\"Valentina\", \"Karla\", \"Juan\", \"Elian\", \"Pedro\"] #Esta es la lista de asistencia\n",
        "lista(asistencia) #Se emplea la función\n",
        "\n",
        "def marco (letras): #Se prepara la función\n",
        "  x = len(letras) #Establecemos los elementos para utilizar el while\n",
        "  i = 0 \n",
        "  while i<x:\n",
        "    print(letras[x]) #Imprimimos en todas las posiciones de i hasta x\n",
        "    i+=1\n",
        "\n",
        "letrero = [\"Hola\", \"a\", \"todos\", \"esto\", \"es\", \"un\", \"marco\"]\n",
        "marco(x)  "
      ],
      "metadata": {
        "colab": {
          "base_uri": "https://localhost:8080/",
          "height": 270
        },
        "id": "PfE-YcDDpKEf",
        "outputId": "fd797279-095f-4f23-a6d8-dadd7c6ebbde"
      },
      "execution_count": 14,
      "outputs": [
        {
          "output_type": "stream",
          "name": "stdout",
          "text": [
            "¿Como te llamas?lis\n",
            "hola lis\n",
            "Pedro\n",
            "['Pedro', 'Elian', 'Juan', 'Karla', 'Valentina', 'Ana']\n"
          ]
        },
        {
          "output_type": "error",
          "ename": "NameError",
          "evalue": "ignored",
          "traceback": [
            "\u001b[0;31m---------------------------------------------------------------------------\u001b[0m",
            "\u001b[0;31mNameError\u001b[0m                                 Traceback (most recent call last)",
            "\u001b[0;32m<ipython-input-14-fe17d437dc58>\u001b[0m in \u001b[0;36m<module>\u001b[0;34m()\u001b[0m\n\u001b[1;32m     23\u001b[0m \u001b[0;34m\u001b[0m\u001b[0m\n\u001b[1;32m     24\u001b[0m \u001b[0mletrero\u001b[0m \u001b[0;34m=\u001b[0m \u001b[0;34m[\u001b[0m\u001b[0;34m\"Hola\"\u001b[0m\u001b[0;34m,\u001b[0m \u001b[0;34m\"a\"\u001b[0m\u001b[0;34m,\u001b[0m \u001b[0;34m\"todos\"\u001b[0m\u001b[0;34m,\u001b[0m \u001b[0;34m\"esto\"\u001b[0m\u001b[0;34m,\u001b[0m \u001b[0;34m\"es\"\u001b[0m\u001b[0;34m,\u001b[0m \u001b[0;34m\"un\"\u001b[0m\u001b[0;34m,\u001b[0m \u001b[0;34m\"marco\"\u001b[0m\u001b[0;34m]\u001b[0m\u001b[0;34m\u001b[0m\u001b[0;34m\u001b[0m\u001b[0m\n\u001b[0;32m---> 25\u001b[0;31m \u001b[0mmarco\u001b[0m\u001b[0;34m(\u001b[0m\u001b[0mx\u001b[0m\u001b[0;34m)\u001b[0m\u001b[0;34m\u001b[0m\u001b[0;34m\u001b[0m\u001b[0m\n\u001b[0m",
            "\u001b[0;31mNameError\u001b[0m: name 'x' is not defined"
          ]
        }
      ]
    },
    {
      "cell_type": "code",
      "source": [
        ""
      ],
      "metadata": {
        "id": "FHc2a8y8pbuI"
      },
      "execution_count": null,
      "outputs": []
    }
  ]
}